{
 "cells": [
  {
   "cell_type": "code",
   "execution_count": 15,
   "id": "00ea9854",
   "metadata": {},
   "outputs": [
    {
     "name": "stdout",
     "output_type": "stream",
     "text": [
      "4\n",
      "3\n",
      "4\n",
      "res 2\n"
     ]
    }
   ],
   "source": [
    "nop=int(input())\n",
    "nos=int(input())\n",
    "sp=int(input())\n",
    "r = (((nos%nop)+sp)-1)\n",
    "if (r>nop):\n",
    "    r = r % nop\n",
    "print(\"res\",r)\n",
    "    "
   ]
  },
  {
   "cell_type": "code",
   "execution_count": 7,
   "id": "bad327ae",
   "metadata": {},
   "outputs": [
    {
     "name": "stdout",
     "output_type": "stream",
     "text": [
      "4\n",
      "1 2 3 1\n",
      "3\n",
      "[1, 2, 3, 1] <class 'list'>\n",
      "1\n",
      "2\n",
      "5\n",
      "NOT PRESENT\n",
      "2\n",
      "1\n"
     ]
    }
   ],
   "source": [
    "n = int(input())\n",
    "nos = list(map(int,input().split()))\n",
    "noq = int(input())\n",
    "print(nos,type(nos))\n",
    "for i in range(noq):\n",
    "    q = int(input())\n",
    "    if q in nos:\n",
    "        print(nos.count(q))\n",
    "    else:\n",
    "            print(\"NOT PRESENT\")"
   ]
  },
  {
   "cell_type": "code",
   "execution_count": 9,
   "id": "1f3e2fbd",
   "metadata": {},
   "outputs": [
    {
     "name": "stdout",
     "output_type": "stream",
     "text": [
      "12\n",
      "1\n"
     ]
    }
   ],
   "source": [
    "def sum_(p):\n",
    "    s=0\n",
    "    if len(str(p))>1:\n",
    "        for i in str(p):\n",
    "            s += int(i)\n",
    "    return s\n",
    "\n",
    "n = int(input())\n",
    "p = 2**n\n",
    "\n",
    "r = sum_(p)\n",
    "while len(str(r))!=1:\n",
    "        r = sum_(r)\n",
    "else:\n",
    "        print(r)\n",
    "\n",
    "        "
   ]
  },
  {
   "cell_type": "code",
   "execution_count": null,
   "id": "65d73603",
   "metadata": {},
   "outputs": [],
   "source": []
  }
 ],
 "metadata": {
  "kernelspec": {
   "display_name": "Python 3",
   "language": "python",
   "name": "python3"
  },
  "language_info": {
   "codemirror_mode": {
    "name": "ipython",
    "version": 3
   },
   "file_extension": ".py",
   "mimetype": "text/x-python",
   "name": "python",
   "nbconvert_exporter": "python",
   "pygments_lexer": "ipython3",
   "version": "3.8.10"
  }
 },
 "nbformat": 4,
 "nbformat_minor": 5
}
